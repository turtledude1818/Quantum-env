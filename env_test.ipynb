{
 "cells": [
  {
   "cell_type": "code",
   "execution_count": 32,
   "metadata": {},
   "outputs": [
    {
     "data": {
      "text/html": [
       "<pre style=\"word-wrap: normal;white-space: pre;background: #fff0;line-height: 1.1;font-family: &quot;Courier New&quot;,Courier,monospace\">        ┌────────────┐                                            ░ ┌─┐      »\n",
       "   q_0: ┤ Rx(3.7463) ├────────────────────────────────────────────░─┤M├──────»\n",
       "        ├───────────┬┘ ┌────────────┐                             ░ └╥┘┌─┐   »\n",
       "   q_1: ┤ Ry(6.183) ├──┤ Ry(3.2254) ├─────────────────────────────░──╫─┤M├───»\n",
       "        ├───────────┴┐ ├────────────┤                             ░  ║ └╥┘┌─┐»\n",
       "   q_2: ┤ Ry(1.9224) ├─┤ Rz(1.4623) ├─────────────────────────────░──╫──╫─┤M├»\n",
       "        ├────────────┤┌┴────────────┤┌────────────┐┌────────────┐ ░  ║  ║ └╥┘»\n",
       "   q_3: ┤ Ry(5.1988) ├┤ Rx(0.14315) ├┤ Rx(3.5387) ├┤ Rx(4.5782) ├─░──╫──╫──╫─»\n",
       "        └────────────┘└─────────────┘└────────────┘└────────────┘ ░  ║  ║  ║ »\n",
       "   c: 4/═════════════════════════════════════════════════════════════╬══╬══╬═»\n",
       "                                                                     ║  ║  ║ »\n",
       "meas: 4/═════════════════════════════════════════════════════════════╩══╩══╩═»\n",
       "                                                                     0  1  2 »\n",
       "«           \n",
       "«   q_0: ───\n",
       "«           \n",
       "«   q_1: ───\n",
       "«           \n",
       "«   q_2: ───\n",
       "«        ┌─┐\n",
       "«   q_3: ┤M├\n",
       "«        └╥┘\n",
       "«   c: 4/═╬═\n",
       "«         ║ \n",
       "«meas: 4/═╩═\n",
       "«         3 </pre>"
      ],
      "text/plain": [
       "        ┌────────────┐                                            ░ ┌─┐      »\n",
       "   q_0: ┤ Rx(3.7463) ├────────────────────────────────────────────░─┤M├──────»\n",
       "        ├───────────┬┘ ┌────────────┐                             ░ └╥┘┌─┐   »\n",
       "   q_1: ┤ Ry(6.183) ├──┤ Ry(3.2254) ├─────────────────────────────░──╫─┤M├───»\n",
       "        ├───────────┴┐ ├────────────┤                             ░  ║ └╥┘┌─┐»\n",
       "   q_2: ┤ Ry(1.9224) ├─┤ Rz(1.4623) ├─────────────────────────────░──╫──╫─┤M├»\n",
       "        ├────────────┤┌┴────────────┤┌────────────┐┌────────────┐ ░  ║  ║ └╥┘»\n",
       "   q_3: ┤ Ry(5.1988) ├┤ Rx(0.14315) ├┤ Rx(3.5387) ├┤ Rx(4.5782) ├─░──╫──╫──╫─»\n",
       "        └────────────┘└─────────────┘└────────────┘└────────────┘ ░  ║  ║  ║ »\n",
       "   c: 4/═════════════════════════════════════════════════════════════╬══╬══╬═»\n",
       "                                                                     ║  ║  ║ »\n",
       "meas: 4/═════════════════════════════════════════════════════════════╩══╩══╩═»\n",
       "                                                                     0  1  2 »\n",
       "«           \n",
       "«   q_0: ───\n",
       "«           \n",
       "«   q_1: ───\n",
       "«           \n",
       "«   q_2: ───\n",
       "«        ┌─┐\n",
       "«   q_3: ┤M├\n",
       "«        └╥┘\n",
       "«   c: 4/═╬═\n",
       "«         ║ \n",
       "«meas: 4/═╩═\n",
       "«         3 "
      ]
     },
     "execution_count": 32,
     "metadata": {},
     "output_type": "execute_result"
    }
   ],
   "source": [
    "# circuit\n",
    "from env import QuantumEnv\n",
    "from qiskit.visualization import *\n",
    "import matplotlib.pyplot as plt\n",
    "\n",
    "env = QuantumEnv()\n",
    "env.reset()\n",
    "done = False\n",
    "while not done:\n",
    "    done = env.step(env.action_space.sample())[1] # take a random action\n",
    "env.qc.draw()"
   ]
  },
  {
   "cell_type": "code",
   "execution_count": 33,
   "metadata": {},
   "outputs": [
    {
     "data": {
      "image/png": "[encoded data removed]",
      "text/plain": [
       "<Figure size 504x360 with 1 Axes>"
      ]
     },
     "execution_count": 33,
     "metadata": {},
     "output_type": "execute_result"
    }
   ],
   "source": [
    "# actual result\n",
    "plot_histogram(env.output)"
   ]
  },
  {
   "cell_type": "code",
   "execution_count": 34,
   "metadata": {},
   "outputs": [
    {
     "data": {
      "image/png": "[encoded data removed]",
      "text/plain": [
       "<Figure size 432x288 with 1 Axes>"
      ]
     },
     "metadata": {
      "needs_background": "light"
     },
     "output_type": "display_data"
    }
   ],
   "source": [
    "# prediction (random)\n",
    "plt.bar([format(x, 'b').zfill(4) for x in range(2**env.num_q)], env.predictions)\n",
    "plt.xticks(rotation=90)\n",
    "plt.ylabel(\"Probabilities\",)\n",
    "plt.show()"
   ]
  }
 ],
 "metadata": {
  "interpreter": {
   "hash": "e7534cc03525f511956367c02804ef3e6ae97dbf4911c6d1e7bf50e5933f75d2"
  },
  "kernelspec": {
   "display_name": "Python 3.10.4 ('quantum-env')",
   "language": "python",
   "name": "python3"
  },
  "language_info": {
   "codemirror_mode": {
    "name": "ipython",
    "version": 3
   },
   "file_extension": ".py",
   "mimetype": "text/x-python",
   "name": "python",
   "nbconvert_exporter": "python",
   "pygments_lexer": "ipython3",
   "version": "3.10.4"
  },
  "orig_nbformat": 4
 },
 "nbformat": 4,
 "nbformat_minor": 2
}
